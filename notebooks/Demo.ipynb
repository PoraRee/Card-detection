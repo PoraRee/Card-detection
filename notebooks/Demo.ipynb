{
 "cells": [
  {
   "cell_type": "code",
   "execution_count": 1,
   "id": "fe874346",
   "metadata": {},
   "outputs": [],
   "source": [
    "import numpy as np\n",
    "import cv2\n",
    "import IPython\n",
    "from IPython.display import clear_output\n",
    "\n",
    "import sys \n",
    "import os\n",
    "sys.path.append(os.path.abspath(\"../\"))\n",
    "from module.Segmentor import Segmentor\n",
    "\n",
    "import time"
   ]
  },
  {
   "cell_type": "code",
   "execution_count": 2,
   "id": "7cc4797e",
   "metadata": {},
   "outputs": [
    {
     "name": "stdout",
     "output_type": "stream",
     "text": [
      "time: 0.0024480819702148438\n"
     ]
    },
    {
     "ename": "NameError",
     "evalue": "name 'i' is not defined",
     "output_type": "error",
     "traceback": [
      "\u001b[0;31m---------------------------------------------------------------------------\u001b[0m",
      "\u001b[0;31mNameError\u001b[0m                                 Traceback (most recent call last)",
      "Cell \u001b[0;32mIn[2], line 35\u001b[0m\n\u001b[1;32m     33\u001b[0m outputVideoFrame \u001b[38;5;241m=\u001b[39m np\u001b[38;5;241m.\u001b[39mhstack((frame,frame,frame))\n\u001b[1;32m     34\u001b[0m \u001b[38;5;66;03m# Encode image as jpg numpy array\u001b[39;00m\n\u001b[0;32m---> 35\u001b[0m _, buf \u001b[38;5;241m=\u001b[39m cv2\u001b[38;5;241m.\u001b[39mimencode(\u001b[38;5;124m\"\u001b[39m\u001b[38;5;124m.jpg\u001b[39m\u001b[38;5;124m\"\u001b[39m, \u001b[38;5;124m\"\u001b[39m\u001b[38;5;124mcard\u001b[39m\u001b[38;5;124m\"\u001b[39m \u001b[38;5;241m+\u001b[39m \u001b[38;5;28mstr\u001b[39m(\u001b[43mi\u001b[49m), cardSuits[i])\n\u001b[1;32m     36\u001b[0m \u001b[38;5;66;03m# Draw result\u001b[39;00m\n\u001b[1;32m     37\u001b[0m IPython\u001b[38;5;241m.\u001b[39mdisplay\u001b[38;5;241m.\u001b[39mdisplay(IPython\u001b[38;5;241m.\u001b[39mdisplay\u001b[38;5;241m.\u001b[39mImage(data\u001b[38;5;241m=\u001b[39mbuf))\n",
      "\u001b[0;31mNameError\u001b[0m: name 'i' is not defined"
     ]
    }
   ],
   "source": [
    "# TODO : Save output to file\n",
    "\n",
    "filename = '../cards/test.mp4'\n",
    "\n",
    "capture = cv2.VideoCapture(filename)\n",
    "\n",
    "while capture.isOpened():\n",
    "    ret, frame = capture.read()\n",
    "    \n",
    "    if not ret:\n",
    "        print(\"End of stream? Exiting...\")\n",
    "        break\n",
    "        \n",
    "    # Method 1\n",
    "    segmentor = Segmentor(\n",
    "        min_p=4,\n",
    "        max_p=400,\n",
    "        min_a=1000,\n",
    "        max_a=20000,\n",
    "        suit_x_ratio=2 / 7,\n",
    "        suit_y_ratio=1 / 5,\n",
    "    )\n",
    "    \n",
    "    st = time.time()\n",
    "    cardSuits = segmentor.seg(inputImage)\n",
    "    en = time.time()\n",
    "    print(\"time:\", en - st)\n",
    "    \n",
    "    for i in range(len(cardSuits)):\n",
    "        cv2.imshow(\"card\" + str(i), cardSuits[i])\n",
    "    \n",
    "    \n",
    "    outputVideoFrame = np.hstack((frame,frame,frame))\n",
    "    # Encode image as jpg numpy array\n",
    "    _, buf = cv2.imencode(\".jpg\", outputVideoFrame)\n",
    "    # Draw result\n",
    "    IPython.display.display(IPython.display.Image(data=buf))\n",
    "        \n",
    "    clear_output(wait=True) \n",
    "    \n",
    "    if cv2.waitKey(1) == ord('q'):\n",
    "        break"
   ]
  },
  {
   "cell_type": "code",
   "execution_count": null,
   "id": "cf002350",
   "metadata": {},
   "outputs": [],
   "source": []
  }
 ],
 "metadata": {
  "kernelspec": {
   "display_name": "Python 3 (ipykernel)",
   "language": "python",
   "name": "python3"
  },
  "language_info": {
   "codemirror_mode": {
    "name": "ipython",
    "version": 3
   },
   "file_extension": ".py",
   "mimetype": "text/x-python",
   "name": "python",
   "nbconvert_exporter": "python",
   "pygments_lexer": "ipython3",
   "version": "3.11.0"
  }
 },
 "nbformat": 4,
 "nbformat_minor": 5
}
