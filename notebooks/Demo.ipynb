{
 "cells": [
  {
   "cell_type": "code",
   "execution_count": 1,
   "id": "fe874346",
   "metadata": {},
   "outputs": [],
   "source": [
    "import numpy as np\n",
    "import cv2\n",
    "import IPython\n",
    "from IPython.display import clear_output"
   ]
  },
  {
   "cell_type": "code",
   "execution_count": 3,
   "id": "7cc4797e",
   "metadata": {},
   "outputs": [
    {
     "name": "stdout",
     "output_type": "stream",
     "text": [
      "End of stream? Exiting...\n"
     ]
    }
   ],
   "source": [
    "# TODO : Save output to file\n",
    "\n",
    "filename = '../cards/test.mp4'\n",
    "\n",
    "capture = cv2.VideoCapture(filename)\n",
    "\n",
    "while capture.isOpened():\n",
    "    ret, frame = capture.read()\n",
    "    \n",
    "    if not ret:\n",
    "        print(\"End of stream? Exiting...\")\n",
    "        break\n",
    "        \n",
    "    # Method 1\n",
    "    \n",
    "    # Method 2\n",
    "    \n",
    "    outputVideoFrame = np.hstack((frame,frame,frame))\n",
    "    # Encode image as jpg numpy array\n",
    "    _, buf = cv2.imencode(\".jpg\", outputVideoFrame)\n",
    "    # Draw result\n",
    "    IPython.display.display(IPython.display.Image(data=buf))\n",
    "        \n",
    "    clear_output(wait=True) \n",
    "    \n",
    "    if cv2.waitKey(1) == ord('q'):\n",
    "        break"
   ]
  },
  {
   "cell_type": "code",
   "execution_count": null,
   "id": "cf002350",
   "metadata": {},
   "outputs": [],
   "source": []
  }
 ],
 "metadata": {
  "kernelspec": {
   "display_name": "Python 3 (ipykernel)",
   "language": "python",
   "name": "python3"
  },
  "language_info": {
   "codemirror_mode": {
    "name": "ipython",
    "version": 3
   },
   "file_extension": ".py",
   "mimetype": "text/x-python",
   "name": "python",
   "nbconvert_exporter": "python",
   "pygments_lexer": "ipython3",
   "version": "3.11.0"
  }
 },
 "nbformat": 4,
 "nbformat_minor": 5
}
